{
 "cells": [
  {
   "cell_type": "markdown",
   "metadata": {},
   "source": [
    "# Градиентный бустинг"
   ]
  },
  {
   "cell_type": "markdown",
   "metadata": {},
   "source": [
    "##### 1. Чтение данных"
   ]
  },
  {
   "cell_type": "code",
   "execution_count": 1,
   "metadata": {
    "collapsed": false,
    "scrolled": true
   },
   "outputs": [
    {
     "data": {
      "text/html": [
       "<div>\n",
       "<table border=\"1\" class=\"dataframe\">\n",
       "  <thead>\n",
       "    <tr style=\"text-align: right;\">\n",
       "      <th></th>\n",
       "      <th>start_time</th>\n",
       "      <th>lobby_type</th>\n",
       "      <th>r1_hero</th>\n",
       "      <th>r1_level</th>\n",
       "      <th>r1_xp</th>\n",
       "      <th>r1_gold</th>\n",
       "      <th>r1_lh</th>\n",
       "      <th>r1_kills</th>\n",
       "      <th>r1_deaths</th>\n",
       "      <th>r1_items</th>\n",
       "      <th>...</th>\n",
       "      <th>dire_boots_count</th>\n",
       "      <th>dire_ward_observer_count</th>\n",
       "      <th>dire_ward_sentry_count</th>\n",
       "      <th>dire_first_ward_time</th>\n",
       "      <th>duration</th>\n",
       "      <th>radiant_win</th>\n",
       "      <th>tower_status_radiant</th>\n",
       "      <th>tower_status_dire</th>\n",
       "      <th>barracks_status_radiant</th>\n",
       "      <th>barracks_status_dire</th>\n",
       "    </tr>\n",
       "    <tr>\n",
       "      <th>match_id</th>\n",
       "      <th></th>\n",
       "      <th></th>\n",
       "      <th></th>\n",
       "      <th></th>\n",
       "      <th></th>\n",
       "      <th></th>\n",
       "      <th></th>\n",
       "      <th></th>\n",
       "      <th></th>\n",
       "      <th></th>\n",
       "      <th></th>\n",
       "      <th></th>\n",
       "      <th></th>\n",
       "      <th></th>\n",
       "      <th></th>\n",
       "      <th></th>\n",
       "      <th></th>\n",
       "      <th></th>\n",
       "      <th></th>\n",
       "      <th></th>\n",
       "      <th></th>\n",
       "    </tr>\n",
       "  </thead>\n",
       "  <tbody>\n",
       "    <tr>\n",
       "      <th>0</th>\n",
       "      <td>1430198770</td>\n",
       "      <td>7</td>\n",
       "      <td>11</td>\n",
       "      <td>5</td>\n",
       "      <td>2098</td>\n",
       "      <td>1489</td>\n",
       "      <td>20</td>\n",
       "      <td>0</td>\n",
       "      <td>0</td>\n",
       "      <td>7</td>\n",
       "      <td>...</td>\n",
       "      <td>4</td>\n",
       "      <td>2</td>\n",
       "      <td>2</td>\n",
       "      <td>-52</td>\n",
       "      <td>2874</td>\n",
       "      <td>1</td>\n",
       "      <td>1796</td>\n",
       "      <td>0</td>\n",
       "      <td>51</td>\n",
       "      <td>0</td>\n",
       "    </tr>\n",
       "    <tr>\n",
       "      <th>1</th>\n",
       "      <td>1430220345</td>\n",
       "      <td>0</td>\n",
       "      <td>42</td>\n",
       "      <td>4</td>\n",
       "      <td>1188</td>\n",
       "      <td>1033</td>\n",
       "      <td>9</td>\n",
       "      <td>0</td>\n",
       "      <td>1</td>\n",
       "      <td>12</td>\n",
       "      <td>...</td>\n",
       "      <td>4</td>\n",
       "      <td>3</td>\n",
       "      <td>1</td>\n",
       "      <td>-5</td>\n",
       "      <td>2463</td>\n",
       "      <td>1</td>\n",
       "      <td>1974</td>\n",
       "      <td>0</td>\n",
       "      <td>63</td>\n",
       "      <td>1</td>\n",
       "    </tr>\n",
       "    <tr>\n",
       "      <th>2</th>\n",
       "      <td>1430227081</td>\n",
       "      <td>7</td>\n",
       "      <td>33</td>\n",
       "      <td>4</td>\n",
       "      <td>1319</td>\n",
       "      <td>1270</td>\n",
       "      <td>22</td>\n",
       "      <td>0</td>\n",
       "      <td>0</td>\n",
       "      <td>12</td>\n",
       "      <td>...</td>\n",
       "      <td>4</td>\n",
       "      <td>3</td>\n",
       "      <td>1</td>\n",
       "      <td>13</td>\n",
       "      <td>2130</td>\n",
       "      <td>0</td>\n",
       "      <td>0</td>\n",
       "      <td>1830</td>\n",
       "      <td>0</td>\n",
       "      <td>63</td>\n",
       "    </tr>\n",
       "    <tr>\n",
       "      <th>3</th>\n",
       "      <td>1430263531</td>\n",
       "      <td>1</td>\n",
       "      <td>29</td>\n",
       "      <td>4</td>\n",
       "      <td>1779</td>\n",
       "      <td>1056</td>\n",
       "      <td>14</td>\n",
       "      <td>0</td>\n",
       "      <td>0</td>\n",
       "      <td>5</td>\n",
       "      <td>...</td>\n",
       "      <td>4</td>\n",
       "      <td>2</td>\n",
       "      <td>0</td>\n",
       "      <td>27</td>\n",
       "      <td>1459</td>\n",
       "      <td>0</td>\n",
       "      <td>1920</td>\n",
       "      <td>2047</td>\n",
       "      <td>50</td>\n",
       "      <td>63</td>\n",
       "    </tr>\n",
       "    <tr>\n",
       "      <th>4</th>\n",
       "      <td>1430282290</td>\n",
       "      <td>7</td>\n",
       "      <td>13</td>\n",
       "      <td>4</td>\n",
       "      <td>1431</td>\n",
       "      <td>1090</td>\n",
       "      <td>8</td>\n",
       "      <td>1</td>\n",
       "      <td>0</td>\n",
       "      <td>8</td>\n",
       "      <td>...</td>\n",
       "      <td>3</td>\n",
       "      <td>3</td>\n",
       "      <td>0</td>\n",
       "      <td>-16</td>\n",
       "      <td>2449</td>\n",
       "      <td>0</td>\n",
       "      <td>4</td>\n",
       "      <td>1974</td>\n",
       "      <td>3</td>\n",
       "      <td>63</td>\n",
       "    </tr>\n",
       "  </tbody>\n",
       "</table>\n",
       "<p>5 rows × 108 columns</p>\n",
       "</div>"
      ],
      "text/plain": [
       "          start_time  lobby_type  r1_hero  r1_level  r1_xp  r1_gold  r1_lh  \\\n",
       "match_id                                                                     \n",
       "0         1430198770           7       11         5   2098     1489     20   \n",
       "1         1430220345           0       42         4   1188     1033      9   \n",
       "2         1430227081           7       33         4   1319     1270     22   \n",
       "3         1430263531           1       29         4   1779     1056     14   \n",
       "4         1430282290           7       13         4   1431     1090      8   \n",
       "\n",
       "          r1_kills  r1_deaths  r1_items          ...           \\\n",
       "match_id                                         ...            \n",
       "0                0          0         7          ...            \n",
       "1                0          1        12          ...            \n",
       "2                0          0        12          ...            \n",
       "3                0          0         5          ...            \n",
       "4                1          0         8          ...            \n",
       "\n",
       "          dire_boots_count  dire_ward_observer_count  dire_ward_sentry_count  \\\n",
       "match_id                                                                       \n",
       "0                        4                         2                       2   \n",
       "1                        4                         3                       1   \n",
       "2                        4                         3                       1   \n",
       "3                        4                         2                       0   \n",
       "4                        3                         3                       0   \n",
       "\n",
       "          dire_first_ward_time  duration  radiant_win  tower_status_radiant  \\\n",
       "match_id                                                                      \n",
       "0                          -52      2874            1                  1796   \n",
       "1                           -5      2463            1                  1974   \n",
       "2                           13      2130            0                     0   \n",
       "3                           27      1459            0                  1920   \n",
       "4                          -16      2449            0                     4   \n",
       "\n",
       "          tower_status_dire  barracks_status_radiant  barracks_status_dire  \n",
       "match_id                                                                    \n",
       "0                         0                       51                     0  \n",
       "1                         0                       63                     1  \n",
       "2                      1830                        0                    63  \n",
       "3                      2047                       50                    63  \n",
       "4                      1974                        3                    63  \n",
       "\n",
       "[5 rows x 108 columns]"
      ]
     },
     "execution_count": 1,
     "metadata": {},
     "output_type": "execute_result"
    }
   ],
   "source": [
    "import pandas\n",
    "\n",
    "features = pandas.read_csv('./features.csv', index_col='match_id')\n",
    "features.head()"
   ]
  },
  {
   "cell_type": "code",
   "execution_count": 2,
   "metadata": {
    "collapsed": false,
    "scrolled": true
   },
   "outputs": [],
   "source": [
    "result_columns = ['duration', 'radiant_win', 'tower_status_radiant', 'tower_status_dire', 'barracks_status_radiant', 'barracks_status_dire']\n",
    "X = features.drop(result_columns, axis=1)"
   ]
  },
  {
   "cell_type": "markdown",
   "metadata": {},
   "source": [
    "##### 2. Поиск пропусков"
   ]
  },
  {
   "cell_type": "code",
   "execution_count": 3,
   "metadata": {
    "collapsed": false
   },
   "outputs": [
    {
     "data": {
      "text/plain": [
       "[['first_blood_time', 19553],\n",
       " ['first_blood_team', 19553],\n",
       " ['first_blood_player1', 19553],\n",
       " ['first_blood_player2', 43987],\n",
       " ['radiant_bottle_time', 15691],\n",
       " ['radiant_courier_time', 692],\n",
       " ['radiant_flying_courier_time', 27479],\n",
       " ['radiant_first_ward_time', 1836],\n",
       " ['dire_bottle_time', 16143],\n",
       " ['dire_courier_time', 676],\n",
       " ['dire_flying_courier_time', 26098],\n",
       " ['dire_first_ward_time', 1826]]"
      ]
     },
     "execution_count": 3,
     "metadata": {},
     "output_type": "execute_result"
    }
   ],
   "source": [
    "row_count = len(X)\n",
    "not_nan_counts = X.count()\n",
    "\n",
    "columns_with_nan = filter(lambda axe: not_nan_counts[axe] < row_count, not_nan_counts.axes[0])\n",
    "\n",
    "list(map(lambda column: [column, row_count - not_nan_counts[column]], columns_with_nan))"
   ]
  },
  {
   "cell_type": "markdown",
   "metadata": {},
   "source": [
    "Возможные причины пропусков:\n",
    "- `first_blood_time`, `first_blood_team`, `first_blood_player1`, `first_blood_player2` - событие \"wirst blood\" не произошло в первые 5 минут матча\n",
    "- radiant_bottle_time, dire_bottle_time - предмет \"bottle\" не приобретен в первые 5 минут матча\n",
    "- radiant_courier_time, dire_courier_time - предмет \"courier\" не приобретен в первые 5 минут матча\n",
    "- radiant_flying_courier_time, dire_flying_courier_time - предмет \"flying courier\" не приобретен в первые 5 минут матча\n",
    "- radiant_first_ward_time, dire_first_ward_time  - событие \"first ward\" не произошло в первые 5 минут матча"
   ]
  },
  {
   "cell_type": "markdown",
   "metadata": {},
   "source": [
    "##### 3. Заполнение пропусков"
   ]
  },
  {
   "cell_type": "code",
   "execution_count": 4,
   "metadata": {
    "collapsed": false
   },
   "outputs": [],
   "source": [
    "X.fillna(0, inplace = True)"
   ]
  },
  {
   "cell_type": "markdown",
   "metadata": {},
   "source": [
    "##### 4. Целевая переменная\n",
    "\n",
    "Целевая переменная содержится в поле `radiant_win`"
   ]
  },
  {
   "cell_type": "code",
   "execution_count": 5,
   "metadata": {
    "collapsed": false
   },
   "outputs": [],
   "source": [
    "Y = features.radiant_win.values"
   ]
  },
  {
   "cell_type": "markdown",
   "metadata": {},
   "source": [
    "##### 5. Обучение и проверка классификатора"
   ]
  },
  {
   "cell_type": "code",
   "execution_count": 17,
   "metadata": {
    "collapsed": false
   },
   "outputs": [
    {
     "name": "stdout",
     "output_type": "stream",
     "text": [
      "N = 10, score = 0.664832922805, time elapsed = 0:00:38.943959\n",
      "N = 20, score = 0.682114035889, time elapsed = 0:01:15.263798\n",
      "N = 30, score = 0.689694757384, time elapsed = 0:01:52.541814\n",
      "N = 40, score = 0.693934188425, time elapsed = 0:02:33.874123\n"
     ]
    }
   ],
   "source": [
    "import time\n",
    "import datetime\n",
    "from sklearn import ensemble\n",
    "from sklearn import cross_validation\n",
    "\n",
    "for n in [10, 20, 30, 40]:\n",
    "    clf = ensemble.GradientBoostingClassifier(n_estimators = n, random_state = 241)\n",
    "    \n",
    "    start_time = datetime.datetime.now()\n",
    "    kf = cross_validation.KFold(len(Y), n_folds = 5, shuffle = True, random_state = 1)\n",
    "    scores = cross_validation.cross_val_score(clf, X, Y, cv = kf, scoring = 'roc_auc')\n",
    "    time_elapsed = datetime.datetime.now() - start_time\n",
    "\n",
    "    print(\"N = \" + str(n) + \", score = \" + str(scores.mean()) + \", time elapsed = \" + str(time_elapsed))"
   ]
  },
  {
   "cell_type": "markdown",
   "metadata": {
    "collapsed": true
   },
   "source": [
    "# Логистическая регрессия"
   ]
  },
  {
   "cell_type": "markdown",
   "metadata": {},
   "source": [
    "##### 1. Логистическая регрессия на необработанных данных"
   ]
  },
  {
   "cell_type": "markdown",
   "metadata": {},
   "source": [
    "Функция обучения логистической регрессии:"
   ]
  },
  {
   "cell_type": "code",
   "execution_count": 6,
   "metadata": {
    "collapsed": true
   },
   "outputs": [],
   "source": [
    "from sklearn import linear_model\n",
    "from sklearn import grid_search\n",
    "from sklearn import cross_validation\n",
    "from sklearn import metrics\n",
    "import time\n",
    "import datetime\n",
    "\n",
    "def perform_grid_search(X, Y, C):\n",
    "    start_time = datetime.datetime.now()\n",
    "    \n",
    "    parameters = { 'C': C }\n",
    "    kf = cross_validation.KFold(len(Y), n_folds = 5, shuffle = True, random_state = 1)\n",
    "    clf_search = grid_search.GridSearchCV(linear_model.LogisticRegression(), parameters, cv = kf, n_jobs = 4, verbose = True)\n",
    "    clf_search.fit(X, Y)\n",
    "\n",
    "    clf = clf_search.best_estimator_\n",
    "    clf.fit(X, Y)\n",
    "\n",
    "    C = clf_search.best_params_['C']\n",
    "    scores = cross_validation.cross_val_score(clf, X, Y, cv = kf, scoring = 'roc_auc')\n",
    "    \n",
    "    time_elapsed = datetime.datetime.now() - start_time\n",
    "    print(\"C = \" + str(C) + \", score = \" + str(scores.mean()) + \", time elapsed = \" + str(time_elapsed))\n",
    "    \n",
    "    return clf"
   ]
  },
  {
   "cell_type": "markdown",
   "metadata": {},
   "source": [
    "Масштабирование признаков:"
   ]
  },
  {
   "cell_type": "code",
   "execution_count": 7,
   "metadata": {
    "collapsed": true
   },
   "outputs": [],
   "source": [
    "from sklearn import preprocessing\n",
    "\n",
    "def scale(data):\n",
    "    scaler = preprocessing.StandardScaler()\n",
    "    scaler.fit(data)\n",
    "    return scaler.transform(data.copy())"
   ]
  },
  {
   "cell_type": "markdown",
   "metadata": {},
   "source": [
    "Обучение с категориальными признаками:"
   ]
  },
  {
   "cell_type": "code",
   "execution_count": 8,
   "metadata": {
    "collapsed": false
   },
   "outputs": [
    {
     "name": "stdout",
     "output_type": "stream",
     "text": [
      "Fitting 5 folds for each of 6 candidates, totalling 30 fits\n",
      "C = 0.1, score = 0.716350926752, time elapsed = 0:00:50.841526\n"
     ]
    },
    {
     "name": "stderr",
     "output_type": "stream",
     "text": [
      "[Parallel(n_jobs=4)]: Done  30 out of  30 | elapsed:   34.1s finished\n"
     ]
    },
    {
     "data": {
      "text/plain": [
       "LogisticRegression(C=0.1, class_weight=None, dual=False, fit_intercept=True,\n",
       "          intercept_scaling=1, max_iter=100, multi_class='ovr', n_jobs=1,\n",
       "          penalty='l2', random_state=None, solver='liblinear', tol=0.0001,\n",
       "          verbose=0, warm_start=False)"
      ]
     },
     "execution_count": 8,
     "metadata": {},
     "output_type": "execute_result"
    }
   ],
   "source": [
    "C = [10 ** i for i in range(-3, 3)]\n",
    "perform_grid_search(scale(X), Y, C)"
   ]
  },
  {
   "cell_type": "markdown",
   "metadata": {},
   "source": [
    "Удаление категориальных признаков:"
   ]
  },
  {
   "cell_type": "code",
   "execution_count": 23,
   "metadata": {
    "collapsed": false
   },
   "outputs": [],
   "source": [
    "hero_columns = ['r1_hero', 'r2_hero', 'r3_hero', 'r4_hero', 'r5_hero', 'd1_hero', 'd2_hero', 'd3_hero', 'd4_hero', 'd5_hero']\n",
    "categorial = ['lobby_type'] + hero_columns\n",
    "X_without_categorial = X.drop(categorial, axis=1)\n",
    "X_without_categorial_scaled = scale(X_without_categorial)"
   ]
  },
  {
   "cell_type": "markdown",
   "metadata": {},
   "source": [
    "Обучение без категориальных признаков:"
   ]
  },
  {
   "cell_type": "code",
   "execution_count": 9,
   "metadata": {
    "collapsed": false
   },
   "outputs": [
    {
     "name": "stdout",
     "output_type": "stream",
     "text": [
      "Fitting 5 folds for each of 6 candidates, totalling 30 fits\n",
      "C = 0.1, score = 0.71638380048, time elapsed = 0:00:43.328206\n"
     ]
    },
    {
     "name": "stderr",
     "output_type": "stream",
     "text": [
      "[Parallel(n_jobs=4)]: Done  30 out of  30 | elapsed:   29.3s finished\n"
     ]
    },
    {
     "data": {
      "text/plain": [
       "LogisticRegression(C=0.1, class_weight=None, dual=False, fit_intercept=True,\n",
       "          intercept_scaling=1, max_iter=100, multi_class='ovr', n_jobs=1,\n",
       "          penalty='l2', random_state=None, solver='liblinear', tol=0.0001,\n",
       "          verbose=0, warm_start=False)"
      ]
     },
     "execution_count": 9,
     "metadata": {},
     "output_type": "execute_result"
    }
   ],
   "source": [
    "C = [10 ** i for i in range(-3, 3)]\n",
    "perform_grid_search(X_without_categorial_scaled, Y, C)"
   ]
  },
  {
   "cell_type": "markdown",
   "metadata": {},
   "source": [
    "Формирование \"мешка слов\" по героям:"
   ]
  },
  {
   "cell_type": "code",
   "execution_count": 24,
   "metadata": {
    "collapsed": false
   },
   "outputs": [
    {
     "name": "stdout",
     "output_type": "stream",
     "text": [
      "Total heroes count = 108\n"
     ]
    }
   ],
   "source": [
    "import numpy as np\n",
    "import scipy\n",
    "\n",
    "hero_ids = pandas.unique(X[hero_columns].values.ravel())\n",
    "print(\"Total heroes count = \" + str(len(hero_ids)))\n",
    "\n",
    "max_hero_id = max(hero_ids)\n",
    "\n",
    "X_pick = np.zeros((X_without_categorial.shape[0], max_hero_id))\n",
    "\n",
    "for i, match_id in enumerate(X_without_categorial.index):\n",
    "    for p in range(5):\n",
    "        X_pick[i, X.ix[match_id, 'r%d_hero' % (p + 1)] - 1] = 1\n",
    "        X_pick[i, X.ix[match_id, 'd%d_hero' % (p + 1)] - 1] = -1\n",
    "\n",
    "categorial_matrix = scipy.sparse.hstack([X_without_categorial, X_pick]).todense()\n",
    "\n",
    "columns = list(X_without_categorial.columns.values) + list(map(lambda i: 'hero_%d' % i, range(0, max_hero_id)))\n",
    "X_with_categorial = pandas.DataFrame(categorial_matrix, columns = columns)\n",
    "X_with_categorial_scaled = scale(X_with_categorial)"
   ]
  },
  {
   "cell_type": "code",
   "execution_count": 11,
   "metadata": {
    "collapsed": false
   },
   "outputs": [
    {
     "name": "stdout",
     "output_type": "stream",
     "text": [
      "Fitting 5 folds for each of 6 candidates, totalling 30 fits\n",
      "C = 0.1, score = 0.751861720539, time elapsed = 0:01:30.710868\n"
     ]
    },
    {
     "name": "stderr",
     "output_type": "stream",
     "text": [
      "[Parallel(n_jobs=4)]: Done  30 out of  30 | elapsed:   59.6s finished\n"
     ]
    }
   ],
   "source": [
    "C = [10 ** i for i in range(-3, 3)]\n",
    "clf = perform_grid_search(X_with_categorial_scaled, Y, C)"
   ]
  },
  {
   "cell_type": "markdown",
   "metadata": {},
   "source": [
    "Запуск модели на тестовой выборке:"
   ]
  },
  {
   "cell_type": "code",
   "execution_count": 16,
   "metadata": {
    "collapsed": false
   },
   "outputs": [
    {
     "name": "stdout",
     "output_type": "stream",
     "text": [
      "Min prediction = 0.00868860295948, max prediction = 0.996471254335\n"
     ]
    }
   ],
   "source": [
    "X_test = pandas.read_csv('./features_test.csv', index_col='match_id')\n",
    "X_test.fillna(0, inplace = True)\n",
    "X_test_without_categorial = X_test.drop(categorial, axis=1)\n",
    "\n",
    "hero_ids = pandas.unique(X_test[categorial].values.ravel())\n",
    "max_hero_id = max(hero_ids)\n",
    "\n",
    "X_pick = np.zeros((X_test_without_categorial.shape[0], max_hero_id))\n",
    "\n",
    "for i, match_id in enumerate(X_test_without_categorial.index):\n",
    "    for p in range(5):\n",
    "        X_pick[i, X_test.ix[match_id, 'r%d_hero' % (p + 1)] - 1] = 1\n",
    "        X_pick[i, X_test.ix[match_id, 'd%d_hero' % (p + 1)] - 1] = -1\n",
    "\n",
    "categorial_matrix = scipy.sparse.hstack([X_test_without_categorial, X_pick]).todense()\n",
    "\n",
    "columns = list(X_test_without_categorial.columns.values) + list(map(lambda i: 'hero_%d' % i, range(0, max_hero_id)))\n",
    "X_test_with_categorial = pandas.DataFrame(categorial_matrix, columns = columns)\n",
    "X_test_with_categorial_scaled = scale(X_test_with_categorial)\n",
    "\n",
    "predictions = clf.predict_proba(X_test_with_categorial_scaled)[:, 1]\n",
    "\n",
    "print(\"Min prediction = \" + str(min(predictions)) + \", max prediction = \" + str(max(predictions)))"
   ]
  }
 ],
 "metadata": {
  "kernelspec": {
   "display_name": "Python 3",
   "language": "python",
   "name": "python3"
  },
  "language_info": {
   "codemirror_mode": {
    "name": "ipython",
    "version": 3
   },
   "file_extension": ".py",
   "mimetype": "text/x-python",
   "name": "python",
   "nbconvert_exporter": "python",
   "pygments_lexer": "ipython3",
   "version": "3.5.1"
  }
 },
 "nbformat": 4,
 "nbformat_minor": 0
}
