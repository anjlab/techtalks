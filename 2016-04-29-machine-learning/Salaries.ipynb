{
 "cells": [
  {
   "cell_type": "markdown",
   "metadata": {},
   "source": [
    "# Предсказание размера зарплаты по объявлениям"
   ]
  },
  {
   "cell_type": "code",
   "execution_count": 1,
   "metadata": {
    "collapsed": false
   },
   "outputs": [
    {
     "name": "stdout",
     "output_type": "stream",
     "text": [
      "======= Salary Train =======\n",
      "                                     FullDescription LocationNormalized  \\\n",
      "0  International Sales Manager London ****k  ****...             London   \n",
      "1  An ideal opportunity for an individual that ha...             London   \n",
      "2  Online Content and Brand Manager// Luxury Reta...  South East London   \n",
      "3  A great local marketleader is seeking a perman...            Dereham   \n",
      "4  Registered Nurse / RGN  Nursing Home for Young...   Sutton Coldfield   \n",
      "\n",
      "  ContractTime  SalaryNormalized  \n",
      "0    permanent             33000  \n",
      "1    permanent             50000  \n",
      "2    permanent             40000  \n",
      "3    permanent             22500  \n",
      "4          NaN             20355  \n",
      "======= Salary Test Mini =======\n",
      "                                     FullDescription LocationNormalized  \\\n",
      "0  We currently have a vacancy for an HR Project ...      Milton Keynes   \n",
      "1  A Web developer opportunity has arisen with an...         Manchester   \n",
      "\n",
      "  ContractTime  SalaryNormalized  \n",
      "0     contract               NaN  \n",
      "1    permanent               NaN  \n"
     ]
    }
   ],
   "source": [
    "import pandas\n",
    "\n",
    "# Загрузка данных из файлов\n",
    "data_train=pandas.read_csv('salary-train.csv')\n",
    "# Тестовые данные не участвуют в обучении, в них нет целевой переменной\n",
    "# Данные из реальной жизни, которые прогоняются через готовую модель для получения ответа\n",
    "data_test=pandas.read_csv('salary-test-mini.csv')\n",
    "\n",
    "def print_head():\n",
    "    print '======= Salary Train ======='\n",
    "    print data_train.head()\n",
    "    print '======= Salary Test Mini ======='\n",
    "    print data_test.head()\n",
    "    \n",
    "print_head()"
   ]
  },
  {
   "cell_type": "code",
   "execution_count": 2,
   "metadata": {
    "collapsed": false
   },
   "outputs": [],
   "source": [
    "def lower(text):\n",
    "    return text.lower()\n",
    "\n",
    "# Функция нормализации данных:\n",
    "# 1) оставляем только буквы и цифры, все переводим в lowercase\n",
    "# 2) заменяем пропуски на строку \"nan\"\n",
    "def normalize_df(df):\n",
    "    df['FullDescription'] = df['FullDescription'].replace('[^a-zA-Z0-9]', ' ', regex = True).apply(lower)\n",
    "    df['ContractTime'].fillna('nan', inplace = True)\n",
    "    df['LocationNormalized'].fillna('nan', inplace = True)\n",
    "    df['LocationNormalized'] = df['LocationNormalized'].replace('[^a-zA-Z0-9]', ' ', regex = True).apply(lower)\n",
    "\n",
    "    return df\n",
    "\n",
    "# Нормализуем оба набора данных\n",
    "data_test=normalize_df(data_test)\n",
    "data_train=normalize_df(data_train)"
   ]
  },
  {
   "cell_type": "code",
   "execution_count": 3,
   "metadata": {
    "collapsed": false
   },
   "outputs": [
    {
     "name": "stdout",
     "output_type": "stream",
     "text": [
      "======= Salary Train =======\n",
      "                                     FullDescription LocationNormalized  \\\n",
      "0  international sales manager london     k      ...             london   \n",
      "1  an ideal opportunity for an individual that ha...             london   \n",
      "2  online content and brand manager   luxury reta...  south east london   \n",
      "3  a great local marketleader is seeking a perman...            dereham   \n",
      "4  registered nurse   rgn  nursing home for young...   sutton coldfield   \n",
      "\n",
      "  ContractTime  SalaryNormalized  \n",
      "0    permanent             33000  \n",
      "1    permanent             50000  \n",
      "2    permanent             40000  \n",
      "3    permanent             22500  \n",
      "4          nan             20355  \n",
      "======= Salary Test Mini =======\n",
      "                                     FullDescription LocationNormalized  \\\n",
      "0  we currently have a vacancy for an hr project ...      milton keynes   \n",
      "1  a web developer opportunity has arisen with an...         manchester   \n",
      "\n",
      "  ContractTime  SalaryNormalized  \n",
      "0     contract               NaN  \n",
      "1    permanent               NaN  \n"
     ]
    }
   ],
   "source": [
    "print_head()"
   ]
  },
  {
   "cell_type": "code",
   "execution_count": 4,
   "metadata": {
    "collapsed": false
   },
   "outputs": [
    {
     "name": "stdout",
     "output_type": "stream",
     "text": [
      "======= Salary Train =======\n",
      "  (0, 2)\t1.0\n",
      "  (0, 957)\t1.0\n",
      "  (1, 2)\t1.0\n",
      "  (1, 957)\t1.0\n",
      "  (2, 2)\t1.0\n",
      "  (2, 1392)\t1.0\n",
      "  (3, 2)\t1.0\n",
      "  (3, 471)\t1.0\n",
      "  (4, 1)\t1.0\n",
      "  (4, 1495)\t1.0\n",
      "======= Salary Test Mini =======\n",
      "  (0, 0)\t1.0\n",
      "  (0, 1040)\t1.0\n",
      "  (1, 2)\t1.0\n",
      "  (1, 997)\t1.0\n"
     ]
    },
    {
     "data": {
      "text/plain": [
       "<60000x1766 sparse matrix of type '<type 'numpy.float64'>'\n",
       "\twith 120000 stored elements in Compressed Sparse Row format>"
      ]
     },
     "execution_count": 4,
     "metadata": {},
     "output_type": "execute_result"
    }
   ],
   "source": [
    "from sklearn.feature_extraction import DictVectorizer\n",
    "enc = DictVectorizer()\n",
    "\n",
    "# Каждый город и тип работы будут отдельной колонкой\n",
    "# Объявления в строчках, в соответствующих колонках для нужных городов и типов работы ставим 1\n",
    "X_train_categ = enc.fit_transform(data_train[['LocationNormalized', 'ContractTime']].to_dict('records'))\n",
    "X_test_categ = enc.transform(data_test[['LocationNormalized', 'ContractTime']].to_dict('records'))\n",
    "\n",
    "print '======= Salary Train ======='\n",
    "print X_train_categ[:5]\n",
    "print '======= Salary Test Mini ======='\n",
    "print X_test_categ\n",
    "\n",
    "X_train_categ"
   ]
  },
  {
   "cell_type": "code",
   "execution_count": 5,
   "metadata": {
    "collapsed": false
   },
   "outputs": [
    {
     "data": {
      "text/plain": [
       "TfidfVectorizer(analyzer=u'word', binary=False, decode_error=u'strict',\n",
       "        dtype=<type 'numpy.int64'>, encoding=u'utf-8', input=u'content',\n",
       "        lowercase=True, max_df=1.0, max_features=None, min_df=5,\n",
       "        ngram_range=(1, 1), norm=u'l2', preprocessor=None, smooth_idf=True,\n",
       "        stop_words=None, strip_accents=None, sublinear_tf=False,\n",
       "        token_pattern=u'(?u)\\\\b\\\\w\\\\w+\\\\b', tokenizer=None, use_idf=True,\n",
       "        vocabulary=None)"
      ]
     },
     "execution_count": 5,
     "metadata": {},
     "output_type": "execute_result"
    }
   ],
   "source": [
    "from sklearn.feature_extraction.text import TfidfVectorizer\n",
    "\n",
    "vzr=TfidfVectorizer(min_df=5)\n",
    "vzr"
   ]
  },
  {
   "cell_type": "code",
   "execution_count": 6,
   "metadata": {
    "collapsed": true
   },
   "outputs": [],
   "source": [
    "# Строим TF-IDF индекс -- для каждого слова оценивается его важность\n",
    "# относительно всей коллекции \"документов\" (у нас документ - это текст объявления)\n",
    "# Каждая колонка - отдельное слово \n",
    "# Пропускаем слова, если они встречаются менее чем в пяти разных документах (min_df=5)\n",
    "# Ячейка не пустая если слово встречается в данном объявлении\n",
    "\n",
    "mx_train=vzr.fit_transform(data_train['FullDescription'])"
   ]
  },
  {
   "cell_type": "code",
   "execution_count": 7,
   "metadata": {
    "collapsed": false
   },
   "outputs": [
    {
     "name": "stdout",
     "output_type": "stream",
     "text": [
      "  (0, 609)\t0.0435026522837\n",
      "  (0, 482)\t0.0261783638125\n",
      "  (0, 477)\t0.0759214010654\n",
      "  (0, 101)\t0.0774013219018\n",
      "  (0, 655)\t0.0589658990281\n",
      "  (1, 679)\t0.169263206104\n",
      "  (2, 678)\t0.0317735376665\n",
      "  (2, 482)\t0.0215038677594\n",
      "  (2, 655)\t0.0242183756039\n",
      "  (4, 61)\t0.0881786407467\n",
      "  (4, 488)\t0.0575900138819\n",
      "  (4, 141)\t0.0897324297354\n",
      "  (4, 201)\t0.108872742103\n"
     ]
    },
    {
     "data": {
      "text/plain": [
       "<60000x22861 sparse matrix of type '<type 'numpy.float64'>'\n",
       "\twith 8365759 stored elements in Compressed Sparse Row format>"
      ]
     },
     "execution_count": 7,
     "metadata": {},
     "output_type": "execute_result"
    }
   ],
   "source": [
    "print mx_train[:5,0:700]\n",
    "\n",
    "mx_train"
   ]
  },
  {
   "cell_type": "code",
   "execution_count": 8,
   "metadata": {
    "collapsed": false
   },
   "outputs": [
    {
     "data": {
      "text/plain": [
       "<60000x24627 sparse matrix of type '<type 'numpy.float64'>'\n",
       "\twith 8485759 stored elements in COOrdinate format>"
      ]
     },
     "execution_count": 8,
     "metadata": {},
     "output_type": "execute_result"
    }
   ],
   "source": [
    "from scipy.sparse import hstack\n",
    "\n",
    "# Объединяем таблички: добавляем колонки справа\n",
    "X_union=hstack([mx_train, X_train_categ])\n",
    "X_union"
   ]
  },
  {
   "cell_type": "code",
   "execution_count": 9,
   "metadata": {
    "collapsed": false
   },
   "outputs": [
    {
     "name": "stdout",
     "output_type": "stream",
     "text": [
      "0:00:05.087823\n"
     ]
    }
   ],
   "source": [
    "from sklearn.linear_model import Ridge\n",
    "from sklearn.linear_model import RidgeCV\n",
    "\n",
    "from datetime import datetime\n",
    "\n",
    "start=datetime.now()\n",
    "\n",
    "\n",
    "# По полученным данным строим модель\n",
    "\n",
    "# Линейная регрессия с L2-регуляризацией Тихонова по целевой переменной \"зарплата\"\n",
    "# alpha соответствует коэффициенту регуляризации (штраф за сложность модели, препятствует переобучению)\n",
    "\n",
    "ridge=Ridge(alpha=1)\n",
    "\n",
    "# ridge=RidgeCV(scoring=\"r2\", cv=2, store_cv_values=False)\n",
    "ridge.fit(X_union,data_train['SalaryNormalized'])\n",
    "\n",
    "end=datetime.now()\n",
    "print end-start"
   ]
  },
  {
   "cell_type": "code",
   "execution_count": 10,
   "metadata": {
    "collapsed": false
   },
   "outputs": [
    {
     "data": {
      "text/plain": [
       "<2x24627 sparse matrix of type '<type 'numpy.float64'>'\n",
       "\twith 304 stored elements in COOrdinate format>"
      ]
     },
     "execution_count": 10,
     "metadata": {},
     "output_type": "execute_result"
    }
   ],
   "source": [
    "# Объединяем таблички с тестовыми данными\n",
    "mx_test=vzr.transform(data_test['FullDescription'])\n",
    "X_union_test=hstack([mx_test, X_test_categ])\n",
    "X_union_test"
   ]
  },
  {
   "cell_type": "code",
   "execution_count": 11,
   "metadata": {
    "collapsed": false
   },
   "outputs": [
    {
     "data": {
      "text/plain": [
       "array([ 56588.1 ,  37207.51])"
      ]
     },
     "execution_count": 11,
     "metadata": {},
     "output_type": "execute_result"
    }
   ],
   "source": [
    "import numpy as np\n",
    "\n",
    "# Предсказываем значения зарплаты для тестового набора\n",
    "np.round(ridge.predict(X_union_test), 2)"
   ]
  },
  {
   "cell_type": "code",
   "execution_count": null,
   "metadata": {
    "collapsed": true
   },
   "outputs": [],
   "source": []
  },
  {
   "cell_type": "code",
   "execution_count": null,
   "metadata": {
    "collapsed": true
   },
   "outputs": [],
   "source": []
  }
 ],
 "metadata": {
  "kernelspec": {
   "display_name": "Python 2",
   "language": "python",
   "name": "python2"
  },
  "language_info": {
   "codemirror_mode": {
    "name": "ipython",
    "version": 2
   },
   "file_extension": ".py",
   "mimetype": "text/x-python",
   "name": "python",
   "nbconvert_exporter": "python",
   "pygments_lexer": "ipython2",
   "version": "2.7.11"
  }
 },
 "nbformat": 4,
 "nbformat_minor": 0
}
