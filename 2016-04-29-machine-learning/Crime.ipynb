{
 "cells": [
  {
   "cell_type": "markdown",
   "metadata": {},
   "source": [
    "# Demo: SF Crimes"
   ]
  },
  {
   "cell_type": "markdown",
   "metadata": {},
   "source": [
    "### Уменьшение обучающей выборки"
   ]
  },
  {
   "cell_type": "code",
   "execution_count": 54,
   "metadata": {
    "collapsed": false
   },
   "outputs": [
    {
     "data": {
      "text/html": [
       "<div>\n",
       "<table border=\"1\" class=\"dataframe\">\n",
       "  <thead>\n",
       "    <tr style=\"text-align: right;\">\n",
       "      <th></th>\n",
       "      <th>Dates</th>\n",
       "      <th>Category</th>\n",
       "      <th>Descript</th>\n",
       "      <th>DayOfWeek</th>\n",
       "      <th>PdDistrict</th>\n",
       "      <th>Resolution</th>\n",
       "      <th>Address</th>\n",
       "      <th>X</th>\n",
       "      <th>Y</th>\n",
       "    </tr>\n",
       "  </thead>\n",
       "  <tbody>\n",
       "    <tr>\n",
       "      <th>0</th>\n",
       "      <td>2015-05-13 23:53:00</td>\n",
       "      <td>WARRANTS</td>\n",
       "      <td>WARRANT ARREST</td>\n",
       "      <td>Wednesday</td>\n",
       "      <td>NORTHERN</td>\n",
       "      <td>ARREST, BOOKED</td>\n",
       "      <td>OAK ST / LAGUNA ST</td>\n",
       "      <td>-122.425892</td>\n",
       "      <td>37.774599</td>\n",
       "    </tr>\n",
       "    <tr>\n",
       "      <th>1</th>\n",
       "      <td>2015-05-13 23:53:00</td>\n",
       "      <td>OTHER OFFENSES</td>\n",
       "      <td>TRAFFIC VIOLATION ARREST</td>\n",
       "      <td>Wednesday</td>\n",
       "      <td>NORTHERN</td>\n",
       "      <td>ARREST, BOOKED</td>\n",
       "      <td>OAK ST / LAGUNA ST</td>\n",
       "      <td>-122.425892</td>\n",
       "      <td>37.774599</td>\n",
       "    </tr>\n",
       "    <tr>\n",
       "      <th>2</th>\n",
       "      <td>2015-05-13 23:33:00</td>\n",
       "      <td>OTHER OFFENSES</td>\n",
       "      <td>TRAFFIC VIOLATION ARREST</td>\n",
       "      <td>Wednesday</td>\n",
       "      <td>NORTHERN</td>\n",
       "      <td>ARREST, BOOKED</td>\n",
       "      <td>VANNESS AV / GREENWICH ST</td>\n",
       "      <td>-122.424363</td>\n",
       "      <td>37.800414</td>\n",
       "    </tr>\n",
       "    <tr>\n",
       "      <th>3</th>\n",
       "      <td>2015-05-13 23:30:00</td>\n",
       "      <td>LARCENY/THEFT</td>\n",
       "      <td>GRAND THEFT FROM LOCKED AUTO</td>\n",
       "      <td>Wednesday</td>\n",
       "      <td>NORTHERN</td>\n",
       "      <td>NONE</td>\n",
       "      <td>1500 Block of LOMBARD ST</td>\n",
       "      <td>-122.426995</td>\n",
       "      <td>37.800873</td>\n",
       "    </tr>\n",
       "    <tr>\n",
       "      <th>4</th>\n",
       "      <td>2015-05-13 23:30:00</td>\n",
       "      <td>LARCENY/THEFT</td>\n",
       "      <td>GRAND THEFT FROM LOCKED AUTO</td>\n",
       "      <td>Wednesday</td>\n",
       "      <td>PARK</td>\n",
       "      <td>NONE</td>\n",
       "      <td>100 Block of BRODERICK ST</td>\n",
       "      <td>-122.438738</td>\n",
       "      <td>37.771541</td>\n",
       "    </tr>\n",
       "  </tbody>\n",
       "</table>\n",
       "</div>"
      ],
      "text/plain": [
       "                 Dates        Category                      Descript  \\\n",
       "0  2015-05-13 23:53:00        WARRANTS                WARRANT ARREST   \n",
       "1  2015-05-13 23:53:00  OTHER OFFENSES      TRAFFIC VIOLATION ARREST   \n",
       "2  2015-05-13 23:33:00  OTHER OFFENSES      TRAFFIC VIOLATION ARREST   \n",
       "3  2015-05-13 23:30:00   LARCENY/THEFT  GRAND THEFT FROM LOCKED AUTO   \n",
       "4  2015-05-13 23:30:00   LARCENY/THEFT  GRAND THEFT FROM LOCKED AUTO   \n",
       "\n",
       "   DayOfWeek PdDistrict      Resolution                    Address  \\\n",
       "0  Wednesday   NORTHERN  ARREST, BOOKED         OAK ST / LAGUNA ST   \n",
       "1  Wednesday   NORTHERN  ARREST, BOOKED         OAK ST / LAGUNA ST   \n",
       "2  Wednesday   NORTHERN  ARREST, BOOKED  VANNESS AV / GREENWICH ST   \n",
       "3  Wednesday   NORTHERN            NONE   1500 Block of LOMBARD ST   \n",
       "4  Wednesday       PARK            NONE  100 Block of BRODERICK ST   \n",
       "\n",
       "            X          Y  \n",
       "0 -122.425892  37.774599  \n",
       "1 -122.425892  37.774599  \n",
       "2 -122.424363  37.800414  \n",
       "3 -122.426995  37.800873  \n",
       "4 -122.438738  37.771541  "
      ]
     },
     "execution_count": 54,
     "metadata": {},
     "output_type": "execute_result"
    }
   ],
   "source": [
    "import pandas\n",
    "\n",
    "data = pandas.read_csv('./train.csv')\n",
    "\n",
    "features_train = None\n",
    "for category, objects in data.groupby('Category'):\n",
    "    n = min(50, len(objects))\n",
    "\n",
    "    rows = data.ix[objects.sample(n = n).index.values]\n",
    "\n",
    "    if features_train is None:\n",
    "        features_train = rows\n",
    "    else:\n",
    "        features_train = features_train.append(rows)\n",
    "\n",
    "data.head()"
   ]
  },
  {
   "cell_type": "markdown",
   "metadata": {},
   "source": [
    "### Удаление колонок, отсутствующих в тестовой выборке"
   ]
  },
  {
   "cell_type": "code",
   "execution_count": 55,
   "metadata": {
    "collapsed": false
   },
   "outputs": [],
   "source": [
    "from sklearn import preprocessing\n",
    "\n",
    "def remove_test_columns(data):\n",
    "    data_copy = data.copy()\n",
    "    data_copy.drop(['Category', 'Descript', 'Resolution'], axis = 1, inplace = True)\n",
    "    return data_copy\n"
   ]
  },
  {
   "cell_type": "markdown",
   "metadata": {},
   "source": [
    "### Метод обучения градиентного бустинга"
   ]
  },
  {
   "cell_type": "code",
   "execution_count": 57,
   "metadata": {
    "collapsed": false
   },
   "outputs": [],
   "source": [
    "def search_boost_classifier(x, y):\n",
    "    kf = cross_validation.StratifiedKFold(y, n_folds = 5, shuffle = True, random_state = 241)\n",
    "\n",
    "    clf_search = grid_search.GridSearchCV(\n",
    "        ensemble.GradientBoostingClassifier(),\n",
    "        { 'n_estimators': [10, 20, 30] },\n",
    "        cv = kf,\n",
    "        scoring = 'log_loss',\n",
    "        verbose = True\n",
    "    )\n",
    "    clf_search.fit(x, y)\n",
    "\n",
    "    print(clf_search.best_estimator_)\n",
    "    print(clf_search.best_score_)"
   ]
  },
  {
   "cell_type": "markdown",
   "metadata": {},
   "source": [
    "## Обучение градиентного бустинга на сырых данных"
   ]
  },
  {
   "cell_type": "code",
   "execution_count": 56,
   "metadata": {
    "collapsed": false
   },
   "outputs": [
    {
     "data": {
      "text/html": [
       "<div>\n",
       "<table border=\"1\" class=\"dataframe\">\n",
       "  <thead>\n",
       "    <tr style=\"text-align: right;\">\n",
       "      <th></th>\n",
       "      <th>Dates</th>\n",
       "      <th>DayOfWeek</th>\n",
       "      <th>PdDistrict</th>\n",
       "      <th>Address</th>\n",
       "      <th>X</th>\n",
       "      <th>Y</th>\n",
       "    </tr>\n",
       "  </thead>\n",
       "  <tbody>\n",
       "    <tr>\n",
       "      <th>154926</th>\n",
       "      <td>1366584000000000000</td>\n",
       "      <td>3</td>\n",
       "      <td>9</td>\n",
       "      <td>824</td>\n",
       "      <td>-122.413609</td>\n",
       "      <td>37.784697</td>\n",
       "    </tr>\n",
       "    <tr>\n",
       "      <th>831802</th>\n",
       "      <td>1061217600000000000</td>\n",
       "      <td>1</td>\n",
       "      <td>8</td>\n",
       "      <td>285</td>\n",
       "      <td>-122.455679</td>\n",
       "      <td>37.723702</td>\n",
       "    </tr>\n",
       "    <tr>\n",
       "      <th>747715</th>\n",
       "      <td>1096506720000000000</td>\n",
       "      <td>4</td>\n",
       "      <td>0</td>\n",
       "      <td>21</td>\n",
       "      <td>-122.405740</td>\n",
       "      <td>37.737417</td>\n",
       "    </tr>\n",
       "    <tr>\n",
       "      <th>633486</th>\n",
       "      <td>1148040000000000000</td>\n",
       "      <td>0</td>\n",
       "      <td>6</td>\n",
       "      <td>1196</td>\n",
       "      <td>-122.489539</td>\n",
       "      <td>37.772325</td>\n",
       "    </tr>\n",
       "    <tr>\n",
       "      <th>117512</th>\n",
       "      <td>1381962600000000000</td>\n",
       "      <td>6</td>\n",
       "      <td>5</td>\n",
       "      <td>1106</td>\n",
       "      <td>-122.435028</td>\n",
       "      <td>37.777747</td>\n",
       "    </tr>\n",
       "  </tbody>\n",
       "</table>\n",
       "</div>"
      ],
      "text/plain": [
       "                      Dates  DayOfWeek  PdDistrict  Address           X  \\\n",
       "154926  1366584000000000000          3           9      824 -122.413609   \n",
       "831802  1061217600000000000          1           8      285 -122.455679   \n",
       "747715  1096506720000000000          4           0       21 -122.405740   \n",
       "633486  1148040000000000000          0           6     1196 -122.489539   \n",
       "117512  1381962600000000000          6           5     1106 -122.435028   \n",
       "\n",
       "                Y  \n",
       "154926  37.784697  \n",
       "831802  37.723702  \n",
       "747715  37.737417  \n",
       "633486  37.772325  \n",
       "117512  37.777747  "
      ]
     },
     "execution_count": 56,
     "metadata": {},
     "output_type": "execute_result"
    }
   ],
   "source": [
    "from sklearn import cross_validation\n",
    "from sklearn import grid_search\n",
    "from sklearn import ensemble\n",
    "\n",
    "le_category = preprocessing.LabelEncoder()\n",
    "Y_train = le_category.fit_transform(features_train.Category.values)\n",
    "    \n",
    "X_train = remove_test_columns(features_train)\n",
    "X_train.Dates = pandas.to_datetime(X_train.Dates).astype(int)\n",
    "label_encoder = preprocessing.LabelEncoder()\n",
    "X_train.DayOfWeek = label_encoder.fit_transform(X_train.DayOfWeek)\n",
    "X_train.PdDistrict = label_encoder.fit_transform(X_train.PdDistrict)\n",
    "X_train.Address = label_encoder.fit_transform(X_train.Address)\n",
    "\n",
    "X_train.head()"
   ]
  },
  {
   "cell_type": "code",
   "execution_count": 58,
   "metadata": {
    "collapsed": false
   },
   "outputs": [
    {
     "name": "stdout",
     "output_type": "stream",
     "text": [
      "Fitting 5 folds for each of 3 candidates, totalling 15 fits\n"
     ]
    },
    {
     "name": "stderr",
     "output_type": "stream",
     "text": [
      "[Parallel(n_jobs=1)]: Done  15 out of  15 | elapsed:   24.7s finished\n"
     ]
    },
    {
     "name": "stdout",
     "output_type": "stream",
     "text": [
      "GradientBoostingClassifier(init=None, learning_rate=0.1, loss='deviance',\n",
      "              max_depth=3, max_features=None, max_leaf_nodes=None,\n",
      "              min_samples_leaf=1, min_samples_split=2,\n",
      "              min_weight_fraction_leaf=0.0, n_estimators=10,\n",
      "              presort='auto', random_state=None, subsample=1.0, verbose=0,\n",
      "              warm_start=False)\n",
      "-3.68588133383\n"
     ]
    }
   ],
   "source": [
    "search_boost_classifier(X_train, Y_train)"
   ]
  },
  {
   "cell_type": "markdown",
   "metadata": {},
   "source": [
    "### Разбор дат"
   ]
  },
  {
   "cell_type": "code",
   "execution_count": 59,
   "metadata": {
    "collapsed": true
   },
   "outputs": [],
   "source": [
    "def build_dummy_dates(data):\n",
    "    data_copy = data.copy()\n",
    "    \n",
    "    data_copy.Dates = pandas.to_datetime(data_copy.Dates)\n",
    "    data_copy['Min'] = data_copy.Dates.apply(lambda x: x.minute)\n",
    "    data_copy['Hour'] = data_copy.Dates.apply(lambda x: x.hour)\n",
    "    data_copy['Day'] = data_copy.Dates.apply(lambda x: x.day)\n",
    "    data_copy['Month'] = data_copy.Dates.apply(lambda x: x.month)\n",
    "    data_copy['Year'] = data_copy.Dates.apply(lambda x: x.year)\n",
    "    data_copy['WeekNumber'] = data_copy.Dates.apply(lambda x: x.isocalendar()[1])\n",
    "    data_copy.drop('DayOfWeek', axis = 1, inplace = True)\n",
    "    data_copy.drop('Dates', axis = 1, inplace = True)\n",
    "    \n",
    "    return data_copy"
   ]
  },
  {
   "cell_type": "markdown",
   "metadata": {},
   "source": [
    "## Обучение градиентного бустинга с разобранными датами"
   ]
  },
  {
   "cell_type": "code",
   "execution_count": 61,
   "metadata": {
    "collapsed": false
   },
   "outputs": [
    {
     "data": {
      "text/html": [
       "<div>\n",
       "<table border=\"1\" class=\"dataframe\">\n",
       "  <thead>\n",
       "    <tr style=\"text-align: right;\">\n",
       "      <th></th>\n",
       "      <th>PdDistrict</th>\n",
       "      <th>Address</th>\n",
       "      <th>X</th>\n",
       "      <th>Y</th>\n",
       "      <th>Min</th>\n",
       "      <th>Hour</th>\n",
       "      <th>Day</th>\n",
       "      <th>Month</th>\n",
       "      <th>Year</th>\n",
       "      <th>WeekNumber</th>\n",
       "    </tr>\n",
       "  </thead>\n",
       "  <tbody>\n",
       "    <tr>\n",
       "      <th>154926</th>\n",
       "      <td>9</td>\n",
       "      <td>824</td>\n",
       "      <td>-122.413609</td>\n",
       "      <td>37.784697</td>\n",
       "      <td>40</td>\n",
       "      <td>22</td>\n",
       "      <td>21</td>\n",
       "      <td>4</td>\n",
       "      <td>2013</td>\n",
       "      <td>16</td>\n",
       "    </tr>\n",
       "    <tr>\n",
       "      <th>831802</th>\n",
       "      <td>8</td>\n",
       "      <td>285</td>\n",
       "      <td>-122.455679</td>\n",
       "      <td>37.723702</td>\n",
       "      <td>40</td>\n",
       "      <td>14</td>\n",
       "      <td>18</td>\n",
       "      <td>8</td>\n",
       "      <td>2003</td>\n",
       "      <td>34</td>\n",
       "    </tr>\n",
       "    <tr>\n",
       "      <th>747715</th>\n",
       "      <td>0</td>\n",
       "      <td>21</td>\n",
       "      <td>-122.405740</td>\n",
       "      <td>37.737417</td>\n",
       "      <td>12</td>\n",
       "      <td>1</td>\n",
       "      <td>30</td>\n",
       "      <td>9</td>\n",
       "      <td>2004</td>\n",
       "      <td>40</td>\n",
       "    </tr>\n",
       "    <tr>\n",
       "      <th>633486</th>\n",
       "      <td>6</td>\n",
       "      <td>1196</td>\n",
       "      <td>-122.489539</td>\n",
       "      <td>37.772325</td>\n",
       "      <td>0</td>\n",
       "      <td>12</td>\n",
       "      <td>19</td>\n",
       "      <td>5</td>\n",
       "      <td>2006</td>\n",
       "      <td>20</td>\n",
       "    </tr>\n",
       "    <tr>\n",
       "      <th>117512</th>\n",
       "      <td>5</td>\n",
       "      <td>1106</td>\n",
       "      <td>-122.435028</td>\n",
       "      <td>37.777747</td>\n",
       "      <td>30</td>\n",
       "      <td>22</td>\n",
       "      <td>16</td>\n",
       "      <td>10</td>\n",
       "      <td>2013</td>\n",
       "      <td>42</td>\n",
       "    </tr>\n",
       "  </tbody>\n",
       "</table>\n",
       "</div>"
      ],
      "text/plain": [
       "        PdDistrict  Address           X          Y  Min  Hour  Day  Month  \\\n",
       "154926           9      824 -122.413609  37.784697   40    22   21      4   \n",
       "831802           8      285 -122.455679  37.723702   40    14   18      8   \n",
       "747715           0       21 -122.405740  37.737417   12     1   30      9   \n",
       "633486           6     1196 -122.489539  37.772325    0    12   19      5   \n",
       "117512           5     1106 -122.435028  37.777747   30    22   16     10   \n",
       "\n",
       "        Year  WeekNumber  \n",
       "154926  2013          16  \n",
       "831802  2003          34  \n",
       "747715  2004          40  \n",
       "633486  2006          20  \n",
       "117512  2013          42  "
      ]
     },
     "execution_count": 61,
     "metadata": {},
     "output_type": "execute_result"
    }
   ],
   "source": [
    "X_train = remove_test_columns(features_train)\n",
    "X_train = build_dummy_dates(X_train)\n",
    "X_train.PdDistrict = label_encoder.fit_transform(X_train.PdDistrict)\n",
    "X_train.Address = label_encoder.fit_transform(X_train.Address)\n",
    "\n",
    "X_train.head()"
   ]
  },
  {
   "cell_type": "code",
   "execution_count": 62,
   "metadata": {
    "collapsed": false
   },
   "outputs": [
    {
     "name": "stdout",
     "output_type": "stream",
     "text": [
      "Fitting 5 folds for each of 3 candidates, totalling 15 fits\n"
     ]
    },
    {
     "name": "stderr",
     "output_type": "stream",
     "text": [
      "[Parallel(n_jobs=1)]: Done  15 out of  15 | elapsed:   28.8s finished\n"
     ]
    },
    {
     "name": "stdout",
     "output_type": "stream",
     "text": [
      "GradientBoostingClassifier(init=None, learning_rate=0.1, loss='deviance',\n",
      "              max_depth=3, max_features=None, max_leaf_nodes=None,\n",
      "              min_samples_leaf=1, min_samples_split=2,\n",
      "              min_weight_fraction_leaf=0.0, n_estimators=10,\n",
      "              presort='auto', random_state=None, subsample=1.0, verbose=0,\n",
      "              warm_start=False)\n",
      "-3.61384864791\n"
     ]
    }
   ],
   "source": [
    "search_boost_classifier(X_train, Y_train)"
   ]
  },
  {
   "cell_type": "markdown",
   "metadata": {},
   "source": [
    "## Выделение признаков дня недели"
   ]
  },
  {
   "cell_type": "code",
   "execution_count": 64,
   "metadata": {
    "collapsed": false
   },
   "outputs": [
    {
     "data": {
      "text/html": [
       "<div>\n",
       "<table border=\"1\" class=\"dataframe\">\n",
       "  <thead>\n",
       "    <tr style=\"text-align: right;\">\n",
       "      <th></th>\n",
       "      <th>PdDistrict</th>\n",
       "      <th>Address</th>\n",
       "      <th>X</th>\n",
       "      <th>Y</th>\n",
       "      <th>Min</th>\n",
       "      <th>Hour</th>\n",
       "      <th>Day</th>\n",
       "      <th>Month</th>\n",
       "      <th>Year</th>\n",
       "      <th>WeekNumber</th>\n",
       "      <th>Friday</th>\n",
       "      <th>Monday</th>\n",
       "      <th>Saturday</th>\n",
       "      <th>Sunday</th>\n",
       "      <th>Thursday</th>\n",
       "      <th>Tuesday</th>\n",
       "      <th>Wednesday</th>\n",
       "    </tr>\n",
       "  </thead>\n",
       "  <tbody>\n",
       "    <tr>\n",
       "      <th>154926</th>\n",
       "      <td>9</td>\n",
       "      <td>824</td>\n",
       "      <td>-122.413609</td>\n",
       "      <td>37.784697</td>\n",
       "      <td>40</td>\n",
       "      <td>22</td>\n",
       "      <td>21</td>\n",
       "      <td>4</td>\n",
       "      <td>2013</td>\n",
       "      <td>16</td>\n",
       "      <td>0</td>\n",
       "      <td>0</td>\n",
       "      <td>0</td>\n",
       "      <td>1</td>\n",
       "      <td>0</td>\n",
       "      <td>0</td>\n",
       "      <td>0</td>\n",
       "    </tr>\n",
       "    <tr>\n",
       "      <th>831802</th>\n",
       "      <td>8</td>\n",
       "      <td>285</td>\n",
       "      <td>-122.455679</td>\n",
       "      <td>37.723702</td>\n",
       "      <td>40</td>\n",
       "      <td>14</td>\n",
       "      <td>18</td>\n",
       "      <td>8</td>\n",
       "      <td>2003</td>\n",
       "      <td>34</td>\n",
       "      <td>0</td>\n",
       "      <td>1</td>\n",
       "      <td>0</td>\n",
       "      <td>0</td>\n",
       "      <td>0</td>\n",
       "      <td>0</td>\n",
       "      <td>0</td>\n",
       "    </tr>\n",
       "    <tr>\n",
       "      <th>747715</th>\n",
       "      <td>0</td>\n",
       "      <td>21</td>\n",
       "      <td>-122.405740</td>\n",
       "      <td>37.737417</td>\n",
       "      <td>12</td>\n",
       "      <td>1</td>\n",
       "      <td>30</td>\n",
       "      <td>9</td>\n",
       "      <td>2004</td>\n",
       "      <td>40</td>\n",
       "      <td>0</td>\n",
       "      <td>0</td>\n",
       "      <td>0</td>\n",
       "      <td>0</td>\n",
       "      <td>1</td>\n",
       "      <td>0</td>\n",
       "      <td>0</td>\n",
       "    </tr>\n",
       "    <tr>\n",
       "      <th>633486</th>\n",
       "      <td>6</td>\n",
       "      <td>1196</td>\n",
       "      <td>-122.489539</td>\n",
       "      <td>37.772325</td>\n",
       "      <td>0</td>\n",
       "      <td>12</td>\n",
       "      <td>19</td>\n",
       "      <td>5</td>\n",
       "      <td>2006</td>\n",
       "      <td>20</td>\n",
       "      <td>1</td>\n",
       "      <td>0</td>\n",
       "      <td>0</td>\n",
       "      <td>0</td>\n",
       "      <td>0</td>\n",
       "      <td>0</td>\n",
       "      <td>0</td>\n",
       "    </tr>\n",
       "    <tr>\n",
       "      <th>117512</th>\n",
       "      <td>5</td>\n",
       "      <td>1106</td>\n",
       "      <td>-122.435028</td>\n",
       "      <td>37.777747</td>\n",
       "      <td>30</td>\n",
       "      <td>22</td>\n",
       "      <td>16</td>\n",
       "      <td>10</td>\n",
       "      <td>2013</td>\n",
       "      <td>42</td>\n",
       "      <td>0</td>\n",
       "      <td>0</td>\n",
       "      <td>0</td>\n",
       "      <td>0</td>\n",
       "      <td>0</td>\n",
       "      <td>0</td>\n",
       "      <td>1</td>\n",
       "    </tr>\n",
       "  </tbody>\n",
       "</table>\n",
       "</div>"
      ],
      "text/plain": [
       "        PdDistrict  Address           X          Y  Min  Hour  Day  Month  \\\n",
       "154926           9      824 -122.413609  37.784697   40    22   21      4   \n",
       "831802           8      285 -122.455679  37.723702   40    14   18      8   \n",
       "747715           0       21 -122.405740  37.737417   12     1   30      9   \n",
       "633486           6     1196 -122.489539  37.772325    0    12   19      5   \n",
       "117512           5     1106 -122.435028  37.777747   30    22   16     10   \n",
       "\n",
       "        Year  WeekNumber  Friday  Monday  Saturday  Sunday  Thursday  Tuesday  \\\n",
       "154926  2013          16       0       0         0       1         0        0   \n",
       "831802  2003          34       0       1         0       0         0        0   \n",
       "747715  2004          40       0       0         0       0         1        0   \n",
       "633486  2006          20       1       0         0       0         0        0   \n",
       "117512  2013          42       0       0         0       0         0        0   \n",
       "\n",
       "        Wednesday  \n",
       "154926          0  \n",
       "831802          0  \n",
       "747715          0  \n",
       "633486          0  \n",
       "117512          1  "
      ]
     },
     "execution_count": 64,
     "metadata": {},
     "output_type": "execute_result"
    }
   ],
   "source": [
    "X_train = pandas.concat([X_train, pandas.get_dummies(features_train.DayOfWeek)], axis = 1);\n",
    "X_train.head()"
   ]
  },
  {
   "cell_type": "code",
   "execution_count": 65,
   "metadata": {
    "collapsed": false
   },
   "outputs": [
    {
     "name": "stdout",
     "output_type": "stream",
     "text": [
      "Fitting 5 folds for each of 3 candidates, totalling 15 fits\n"
     ]
    },
    {
     "name": "stderr",
     "output_type": "stream",
     "text": [
      "[Parallel(n_jobs=1)]: Done  15 out of  15 | elapsed:   34.8s finished\n"
     ]
    },
    {
     "name": "stdout",
     "output_type": "stream",
     "text": [
      "GradientBoostingClassifier(init=None, learning_rate=0.1, loss='deviance',\n",
      "              max_depth=3, max_features=None, max_leaf_nodes=None,\n",
      "              min_samples_leaf=1, min_samples_split=2,\n",
      "              min_weight_fraction_leaf=0.0, n_estimators=10,\n",
      "              presort='auto', random_state=None, subsample=1.0, verbose=0,\n",
      "              warm_start=False)\n",
      "-3.60585478249\n"
     ]
    }
   ],
   "source": [
    "search_boost_classifier(X_train, Y_train)"
   ]
  },
  {
   "cell_type": "markdown",
   "metadata": {},
   "source": [
    "## Выделение признаков департамента"
   ]
  },
  {
   "cell_type": "code",
   "execution_count": 67,
   "metadata": {
    "collapsed": false
   },
   "outputs": [
    {
     "data": {
      "text/html": [
       "<div>\n",
       "<table border=\"1\" class=\"dataframe\">\n",
       "  <thead>\n",
       "    <tr style=\"text-align: right;\">\n",
       "      <th></th>\n",
       "      <th>Address</th>\n",
       "      <th>X</th>\n",
       "      <th>Y</th>\n",
       "      <th>Min</th>\n",
       "      <th>Hour</th>\n",
       "      <th>Day</th>\n",
       "      <th>Month</th>\n",
       "      <th>Year</th>\n",
       "      <th>WeekNumber</th>\n",
       "      <th>Friday</th>\n",
       "      <th>...</th>\n",
       "      <th>BAYVIEW</th>\n",
       "      <th>CENTRAL</th>\n",
       "      <th>INGLESIDE</th>\n",
       "      <th>MISSION</th>\n",
       "      <th>NORTHERN</th>\n",
       "      <th>PARK</th>\n",
       "      <th>RICHMOND</th>\n",
       "      <th>SOUTHERN</th>\n",
       "      <th>TARAVAL</th>\n",
       "      <th>TENDERLOIN</th>\n",
       "    </tr>\n",
       "  </thead>\n",
       "  <tbody>\n",
       "    <tr>\n",
       "      <th>154926</th>\n",
       "      <td>824</td>\n",
       "      <td>-122.413609</td>\n",
       "      <td>37.784697</td>\n",
       "      <td>40</td>\n",
       "      <td>22</td>\n",
       "      <td>21</td>\n",
       "      <td>4</td>\n",
       "      <td>2013</td>\n",
       "      <td>16</td>\n",
       "      <td>0</td>\n",
       "      <td>...</td>\n",
       "      <td>0</td>\n",
       "      <td>0</td>\n",
       "      <td>0</td>\n",
       "      <td>0</td>\n",
       "      <td>0</td>\n",
       "      <td>0</td>\n",
       "      <td>0</td>\n",
       "      <td>0</td>\n",
       "      <td>0</td>\n",
       "      <td>1</td>\n",
       "    </tr>\n",
       "    <tr>\n",
       "      <th>831802</th>\n",
       "      <td>285</td>\n",
       "      <td>-122.455679</td>\n",
       "      <td>37.723702</td>\n",
       "      <td>40</td>\n",
       "      <td>14</td>\n",
       "      <td>18</td>\n",
       "      <td>8</td>\n",
       "      <td>2003</td>\n",
       "      <td>34</td>\n",
       "      <td>0</td>\n",
       "      <td>...</td>\n",
       "      <td>0</td>\n",
       "      <td>0</td>\n",
       "      <td>0</td>\n",
       "      <td>0</td>\n",
       "      <td>0</td>\n",
       "      <td>0</td>\n",
       "      <td>0</td>\n",
       "      <td>0</td>\n",
       "      <td>1</td>\n",
       "      <td>0</td>\n",
       "    </tr>\n",
       "    <tr>\n",
       "      <th>747715</th>\n",
       "      <td>21</td>\n",
       "      <td>-122.405740</td>\n",
       "      <td>37.737417</td>\n",
       "      <td>12</td>\n",
       "      <td>1</td>\n",
       "      <td>30</td>\n",
       "      <td>9</td>\n",
       "      <td>2004</td>\n",
       "      <td>40</td>\n",
       "      <td>0</td>\n",
       "      <td>...</td>\n",
       "      <td>1</td>\n",
       "      <td>0</td>\n",
       "      <td>0</td>\n",
       "      <td>0</td>\n",
       "      <td>0</td>\n",
       "      <td>0</td>\n",
       "      <td>0</td>\n",
       "      <td>0</td>\n",
       "      <td>0</td>\n",
       "      <td>0</td>\n",
       "    </tr>\n",
       "    <tr>\n",
       "      <th>633486</th>\n",
       "      <td>1196</td>\n",
       "      <td>-122.489539</td>\n",
       "      <td>37.772325</td>\n",
       "      <td>0</td>\n",
       "      <td>12</td>\n",
       "      <td>19</td>\n",
       "      <td>5</td>\n",
       "      <td>2006</td>\n",
       "      <td>20</td>\n",
       "      <td>1</td>\n",
       "      <td>...</td>\n",
       "      <td>0</td>\n",
       "      <td>0</td>\n",
       "      <td>0</td>\n",
       "      <td>0</td>\n",
       "      <td>0</td>\n",
       "      <td>0</td>\n",
       "      <td>1</td>\n",
       "      <td>0</td>\n",
       "      <td>0</td>\n",
       "      <td>0</td>\n",
       "    </tr>\n",
       "    <tr>\n",
       "      <th>117512</th>\n",
       "      <td>1106</td>\n",
       "      <td>-122.435028</td>\n",
       "      <td>37.777747</td>\n",
       "      <td>30</td>\n",
       "      <td>22</td>\n",
       "      <td>16</td>\n",
       "      <td>10</td>\n",
       "      <td>2013</td>\n",
       "      <td>42</td>\n",
       "      <td>0</td>\n",
       "      <td>...</td>\n",
       "      <td>0</td>\n",
       "      <td>0</td>\n",
       "      <td>0</td>\n",
       "      <td>0</td>\n",
       "      <td>0</td>\n",
       "      <td>1</td>\n",
       "      <td>0</td>\n",
       "      <td>0</td>\n",
       "      <td>0</td>\n",
       "      <td>0</td>\n",
       "    </tr>\n",
       "  </tbody>\n",
       "</table>\n",
       "<p>5 rows × 36 columns</p>\n",
       "</div>"
      ],
      "text/plain": [
       "        Address           X          Y  Min  Hour  Day  Month  Year  \\\n",
       "154926      824 -122.413609  37.784697   40    22   21      4  2013   \n",
       "831802      285 -122.455679  37.723702   40    14   18      8  2003   \n",
       "747715       21 -122.405740  37.737417   12     1   30      9  2004   \n",
       "633486     1196 -122.489539  37.772325    0    12   19      5  2006   \n",
       "117512     1106 -122.435028  37.777747   30    22   16     10  2013   \n",
       "\n",
       "        WeekNumber  Friday     ...      BAYVIEW  CENTRAL  INGLESIDE  MISSION  \\\n",
       "154926          16       0     ...            0        0          0        0   \n",
       "831802          34       0     ...            0        0          0        0   \n",
       "747715          40       0     ...            1        0          0        0   \n",
       "633486          20       1     ...            0        0          0        0   \n",
       "117512          42       0     ...            0        0          0        0   \n",
       "\n",
       "        NORTHERN  PARK  RICHMOND  SOUTHERN  TARAVAL  TENDERLOIN  \n",
       "154926         0     0         0         0        0           1  \n",
       "831802         0     0         0         0        1           0  \n",
       "747715         0     0         0         0        0           0  \n",
       "633486         0     0         1         0        0           0  \n",
       "117512         0     1         0         0        0           0  \n",
       "\n",
       "[5 rows x 36 columns]"
      ]
     },
     "execution_count": 67,
     "metadata": {},
     "output_type": "execute_result"
    }
   ],
   "source": [
    "X_train = pandas.concat([X_train, pandas.get_dummies(features_train.PdDistrict)], axis = 1); \n",
    "X_train.drop('PdDistrict', axis = 1, inplace = True)\n",
    "X_train.head()"
   ]
  },
  {
   "cell_type": "code",
   "execution_count": 68,
   "metadata": {
    "collapsed": false
   },
   "outputs": [
    {
     "name": "stdout",
     "output_type": "stream",
     "text": [
      "Fitting 5 folds for each of 3 candidates, totalling 15 fits\n"
     ]
    },
    {
     "name": "stderr",
     "output_type": "stream",
     "text": [
      "[Parallel(n_jobs=1)]: Done  15 out of  15 | elapsed:   44.2s finished\n"
     ]
    },
    {
     "name": "stdout",
     "output_type": "stream",
     "text": [
      "GradientBoostingClassifier(init=None, learning_rate=0.1, loss='deviance',\n",
      "              max_depth=3, max_features=None, max_leaf_nodes=None,\n",
      "              min_samples_leaf=1, min_samples_split=2,\n",
      "              min_weight_fraction_leaf=0.0, n_estimators=10,\n",
      "              presort='auto', random_state=None, subsample=1.0, verbose=0,\n",
      "              warm_start=False)\n",
      "-3.61097064667\n"
     ]
    }
   ],
   "source": [
    "search_boost_classifier(X_train, Y_train)"
   ]
  }
 ],
 "metadata": {
  "kernelspec": {
   "display_name": "Python 3",
   "language": "python",
   "name": "python3"
  },
  "language_info": {
   "codemirror_mode": {
    "name": "ipython",
    "version": 3
   },
   "file_extension": ".py",
   "mimetype": "text/x-python",
   "name": "python",
   "nbconvert_exporter": "python",
   "pygments_lexer": "ipython3",
   "version": "3.5.1"
  }
 },
 "nbformat": 4,
 "nbformat_minor": 0
}
